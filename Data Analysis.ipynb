{
 "cells": [
  {
   "cell_type": "code",
   "execution_count": 2,
   "id": "50524257",
   "metadata": {},
   "outputs": [],
   "source": [
    "import pandas as pd\n",
    "import numpy as np"
   ]
  },
  {
   "cell_type": "code",
   "execution_count": 50,
   "id": "6d7e35e5",
   "metadata": {},
   "outputs": [
    {
     "name": "stdout",
     "output_type": "stream",
     "text": [
      "      Name  Age    City  Salary JoiningDate\n",
      "0    Alice   25      NY   50000  2020-01-15\n",
      "1      Bob   30  London   60000  2019-07-22\n",
      "2  Charlie   35   Paris   70000  2021-03-10\n",
      "3    David   28      NY   55000  2020-12-05\n",
      "4      Eva   40  London   80000  2018-06-30\n"
     ]
    }
   ],
   "source": [
    "data = {\n",
    "\"Name\": [\"Alice\",\"Bob\",\"Charlie\",\"David\",\"Eva\"],\n",
    "\"Age\": [25,30,35,28,40],\n",
    "\"City\": [\"NY\",\"London\",\"Paris\",\"NY\",\"London\"],\n",
    "\"Salary\": [50000,60000,70000,55000,80000],\n",
    "\"JoiningDate\": [\"2020-01-15\",\"2019-07-22\",\"2021-03-10\",\"2020-12-05\",\"2018-06-30\"]\n",
    "}\n",
    "df = pd.DataFrame(data)\n",
    "print(df)"
   ]
  },
  {
   "cell_type": "code",
   "execution_count": 51,
   "id": "6e4d5494",
   "metadata": {},
   "outputs": [
    {
     "name": "stdout",
     "output_type": "stream",
     "text": [
      "      Name  Age    City  Salary JoiningDate\n",
      "0    Alice   25      NY   50000  2020-01-15\n",
      "1      Bob   30  London   60000  2019-07-22\n",
      "2  Charlie   35   Paris   70000  2021-03-10\n",
      "3    David   28      NY   55000  2020-12-05\n",
      "4      Eva   40  London   80000  2018-06-30\n"
     ]
    }
   ],
   "source": [
    "print(df.head())"
   ]
  },
  {
   "cell_type": "code",
   "execution_count": 52,
   "id": "5461dfb6",
   "metadata": {},
   "outputs": [
    {
     "name": "stdout",
     "output_type": "stream",
     "text": [
      "(5, 5)\n"
     ]
    }
   ],
   "source": [
    "print(df.shape)"
   ]
  },
  {
   "cell_type": "code",
   "execution_count": 53,
   "id": "3c4c57ad",
   "metadata": {},
   "outputs": [
    {
     "name": "stdout",
     "output_type": "stream",
     "text": [
      "<class 'pandas.core.frame.DataFrame'>\n",
      "RangeIndex: 5 entries, 0 to 4\n",
      "Data columns (total 5 columns):\n",
      " #   Column       Non-Null Count  Dtype \n",
      "---  ------       --------------  ----- \n",
      " 0   Name         5 non-null      object\n",
      " 1   Age          5 non-null      int64 \n",
      " 2   City         5 non-null      object\n",
      " 3   Salary       5 non-null      int64 \n",
      " 4   JoiningDate  5 non-null      object\n",
      "dtypes: int64(2), object(3)\n",
      "memory usage: 332.0+ bytes\n",
      "None\n"
     ]
    }
   ],
   "source": [
    "print(df.info())"
   ]
  },
  {
   "cell_type": "code",
   "execution_count": 54,
   "id": "e322be14",
   "metadata": {},
   "outputs": [
    {
     "name": "stdout",
     "output_type": "stream",
     "text": [
      "            Age        Salary\n",
      "count   5.00000      5.000000\n",
      "mean   31.60000  63000.000000\n",
      "std     5.94138  12041.594579\n",
      "min    25.00000  50000.000000\n",
      "25%    28.00000  55000.000000\n",
      "50%    30.00000  60000.000000\n",
      "75%    35.00000  70000.000000\n",
      "max    40.00000  80000.000000\n"
     ]
    }
   ],
   "source": [
    "print(df.describe())"
   ]
  },
  {
   "cell_type": "code",
   "execution_count": 55,
   "id": "0d9ac319",
   "metadata": {},
   "outputs": [
    {
     "name": "stdout",
     "output_type": "stream",
     "text": [
      "Name           0\n",
      "Age            0\n",
      "City           0\n",
      "Salary         0\n",
      "JoiningDate    0\n",
      "dtype: int64\n"
     ]
    }
   ],
   "source": [
    "print(df.isnull().sum())"
   ]
  },
  {
   "cell_type": "code",
   "execution_count": 56,
   "id": "e2933b8e",
   "metadata": {},
   "outputs": [
    {
     "name": "stdout",
     "output_type": "stream",
     "text": [
      "['NY' 'London' 'Paris']\n"
     ]
    }
   ],
   "source": [
    "print(df[\"City\"].unique())"
   ]
  },
  {
   "cell_type": "code",
   "execution_count": 67,
   "id": "1af0eb7f",
   "metadata": {},
   "outputs": [
    {
     "name": "stdout",
     "output_type": "stream",
     "text": [
      "         Age    City    Salary JoiningDate  Experience AgeGroup  \\\n",
      "Name                                                              \n",
      "Eva       40  London  106480.0  2018-06-30           5   Senior   \n",
      "Charlie   35   Paris   93170.0  2021-03-10           7    Adult   \n",
      "Bob       30  London   79860.0  2019-07-22           3    Adult   \n",
      "David     28      NY   73205.0  2020-12-05           4    Adult   \n",
      "Alice     25      NY   66550.0  2020-01-15          10    Young   \n",
      "\n",
      "        SalaryCategory  SalaryK  \n",
      "Name                             \n",
      "Eva               High    96.80  \n",
      "Charlie           High    84.70  \n",
      "Bob               High    72.60  \n",
      "David             High    66.55  \n",
      "Alice             High    60.50  \n"
     ]
    }
   ],
   "source": [
    "df[\"Experience\"] = [5,7,3,4,10]\n",
    "df[\"Salary\"] = df[\"Salary\"] * 1.1\n",
    "df[\"Age\"] = df[\"Age\"].fillna(df[\"Age\"].mean())\n",
    "print(df)\n"
   ]
  },
  {
   "cell_type": "code",
   "execution_count": null,
   "id": "568733ed",
   "metadata": {},
   "outputs": [
    {
     "name": "stdout",
     "output_type": "stream",
     "text": [
      "\n",
      "Step 4: Sort & Index\n",
      "         Age    City   Salary JoiningDate  Experience\n",
      "Name                                                 \n",
      "Eva       40  London  96800.0  2018-06-30          10\n",
      "Charlie   35   Paris  84700.0  2021-03-10           3\n",
      "Bob       30  London  72600.0  2019-07-22           7\n",
      "David     28      NY  66550.0  2020-12-05           4\n",
      "Alice     25      NY  60500.0  2020-01-15           5\n"
     ]
    }
   ],
   "source": [
    "\n",
    "df.sort_values(by=\"Salary\", ascending=False, inplace=True)\n",
    "df.set_index(\"Name\", inplace=True)\n",
    "print(df)"
   ]
  },
  {
   "cell_type": "code",
   "execution_count": 60,
   "id": "1b98d5a1",
   "metadata": {},
   "outputs": [
    {
     "name": "stdout",
     "output_type": "stream",
     "text": [
      "         Age    City   Salary JoiningDate  Experience AgeGroup SalaryCategory  \\\n",
      "Name                                                                            \n",
      "Eva       40  London  96800.0  2018-06-30          10   Senior           High   \n",
      "Charlie   35   Paris  84700.0  2021-03-10           3    Adult           High   \n",
      "Bob       30  London  72600.0  2019-07-22           7    Adult           High   \n",
      "David     28      NY  66550.0  2020-12-05           4    Adult           High   \n",
      "Alice     25      NY  60500.0  2020-01-15           5    Young           High   \n",
      "\n",
      "         SalaryK  \n",
      "Name              \n",
      "Eva        96.80  \n",
      "Charlie    84.70  \n",
      "Bob        72.60  \n",
      "David      66.55  \n",
      "Alice      60.50  \n"
     ]
    }
   ],
   "source": [
    "df[\"AgeGroup\"] = pd.cut(df[\"Age\"], bins=[0,25,35,50], labels=[\"Young\",\"Adult\",\"Senior\"])\n",
    "df[\"SalaryCategory\"] = df[\"Salary\"].apply(lambda x: \"High\" if x>60000 else \"Low\")\n",
    "df[\"SalaryK\"] = df[\"Salary\"].apply(lambda x: x/1000)\n",
    "print(df)"
   ]
  },
  {
   "cell_type": "code",
   "execution_count": 68,
   "id": "49994340",
   "metadata": {},
   "outputs": [
    {
     "name": "stdout",
     "output_type": "stream",
     "text": [
      "AgeGroup    Young    Adult    Senior\n",
      "City                                \n",
      "London        NaN  79860.0  106480.0\n",
      "NY        66550.0  73205.0       NaN\n",
      "Paris         NaN  93170.0       NaN\n"
     ]
    }
   ],
   "source": [
    "pivot = df.pivot_table(\n",
    "    values=\"Salary\", \n",
    "    index=\"City\", \n",
    "    columns=\"AgeGroup\", \n",
    "    aggfunc=\"mean\", \n",
    "    observed=False  # keep current behavior\n",
    ")\n",
    "print(pivot)\n"
   ]
  },
  {
   "cell_type": "code",
   "execution_count": 62,
   "id": "1271f6e0",
   "metadata": {},
   "outputs": [
    {
     "name": "stdout",
     "output_type": "stream",
     "text": [
      "      Name  Age    City   Salary JoiningDate  Experience AgeGroup  \\\n",
      "0      Eva   40  London  96800.0  2018-06-30          10   Senior   \n",
      "1  Charlie   35   Paris  84700.0  2021-03-10           3    Adult   \n",
      "2      Bob   30  London  72600.0  2019-07-22           7    Adult   \n",
      "3    David   28      NY  66550.0  2020-12-05           4    Adult   \n",
      "4    Alice   25      NY  60500.0  2020-01-15           5    Young   \n",
      "5    Frank   29   Paris  60000.0  2022-02-10           2      NaN   \n",
      "6    Grace   33      NY  65000.0  2021-05-12           5      NaN   \n",
      "\n",
      "  SalaryCategory  SalaryK  Score  \n",
      "0           High    96.80    NaN  \n",
      "1           High    84.70   95.0  \n",
      "2           High    72.60   85.0  \n",
      "3           High    66.55    NaN  \n",
      "4           High    60.50   90.0  \n",
      "5            NaN      NaN    NaN  \n",
      "6            NaN      NaN    NaN  \n"
     ]
    }
   ],
   "source": [
    "scores = pd.DataFrame({\"Name\":[\"Alice\",\"Bob\",\"Charlie\"],\"Score\":[90,85,95]})\n",
    "df_merged = pd.merge(df.reset_index(), scores, on=\"Name\", how=\"left\")\n",
    "\n",
    "\n",
    "new_employees = pd.DataFrame({\n",
    "\"Name\":[\"Frank\",\"Grace\"],\n",
    "\"Age\":[29,33],\n",
    "\"City\":[\"Paris\",\"NY\"],\n",
    "\"Salary\":[60000,65000],\n",
    "\"JoiningDate\":[\"2022-02-10\",\"2021-05-12\"],\n",
    "\"Experience\":[2,5]\n",
    "})\n",
    "df_final = pd.concat([df_merged, new_employees], ignore_index=True)\n",
    "print(df_final)"
   ]
  },
  {
   "cell_type": "code",
   "execution_count": 69,
   "id": "8c244fb5",
   "metadata": {},
   "outputs": [
    {
     "name": "stdout",
     "output_type": "stream",
     "text": [
      "JoiningDate\n",
      "2018-06-30    96800.0\n",
      "2018-07-31        0.0\n",
      "2018-08-31        0.0\n",
      "2018-09-30        0.0\n",
      "2018-10-31        0.0\n",
      "2018-11-30        0.0\n",
      "2018-12-31        0.0\n",
      "2019-01-31        0.0\n",
      "2019-02-28        0.0\n",
      "2019-03-31        0.0\n",
      "2019-04-30        0.0\n",
      "2019-05-31        0.0\n",
      "2019-06-30        0.0\n",
      "2019-07-31    72600.0\n",
      "2019-08-31        0.0\n",
      "2019-09-30        0.0\n",
      "2019-10-31        0.0\n",
      "2019-11-30        0.0\n",
      "2019-12-31        0.0\n",
      "2020-01-31    60500.0\n",
      "2020-02-29        0.0\n",
      "2020-03-31        0.0\n",
      "2020-04-30        0.0\n",
      "2020-05-31        0.0\n",
      "2020-06-30        0.0\n",
      "2020-07-31        0.0\n",
      "2020-08-31        0.0\n",
      "2020-09-30        0.0\n",
      "2020-10-31        0.0\n",
      "2020-11-30        0.0\n",
      "2020-12-31    66550.0\n",
      "2021-01-31        0.0\n",
      "2021-02-28        0.0\n",
      "2021-03-31    84700.0\n",
      "2021-04-30        0.0\n",
      "2021-05-31    65000.0\n",
      "2021-06-30        0.0\n",
      "2021-07-31        0.0\n",
      "2021-08-31        0.0\n",
      "2021-09-30        0.0\n",
      "2021-10-31        0.0\n",
      "2021-11-30        0.0\n",
      "2021-12-31        0.0\n",
      "2022-01-31        0.0\n",
      "2022-02-28    60000.0\n",
      "Freq: ME, Name: Salary, dtype: float64\n"
     ]
    }
   ],
   "source": [
    "if 'JoiningDate' not in df_final.columns:\n",
    "    df_final.reset_index(inplace=True)\n",
    "df_final['JoiningDate'] = pd.to_datetime(df_final['JoiningDate'])\n",
    "df_final.set_index('JoiningDate', inplace=True)\n",
    "monthly_salary = df_final['Salary'].resample('ME').sum()\n",
    "print(monthly_salary)\n"
   ]
  },
  {
   "cell_type": "code",
   "execution_count": 64,
   "id": "379d7f59",
   "metadata": {},
   "outputs": [
    {
     "name": "stdout",
     "output_type": "stream",
     "text": [
      "                Name  Age   Salary  Experience AgeGroup SalaryCategory  \\\n",
      "JoiningDate                                                              \n",
      "2018-06-30       Eva   40  96800.0          10   Senior           High   \n",
      "2021-03-10   Charlie   35  84700.0           3    Adult           High   \n",
      "2019-07-22       Bob   30  72600.0           7    Adult           High   \n",
      "2020-12-05     David   28  66550.0           4    Adult           High   \n",
      "2020-01-15     Alice   25  60500.0           5    Young           High   \n",
      "2022-02-10     Frank   29  60000.0           2      NaN            NaN   \n",
      "2021-05-12     Grace   33  65000.0           5      NaN            NaN   \n",
      "\n",
      "             SalaryK  Score  City_London  City_NY  City_Paris  AgeGroupCode  \n",
      "JoiningDate                                                                  \n",
      "2018-06-30     96.80    NaN         True    False       False             2  \n",
      "2021-03-10     84.70   95.0        False    False        True             1  \n",
      "2019-07-22     72.60   85.0         True    False       False             1  \n",
      "2020-12-05     66.55    NaN        False     True       False             1  \n",
      "2020-01-15     60.50   90.0        False     True       False             0  \n",
      "2022-02-10       NaN    NaN        False    False        True            -1  \n",
      "2021-05-12       NaN    NaN        False     True       False            -1  \n"
     ]
    }
   ],
   "source": [
    "df_encoded = pd.get_dummies(df_final, columns=[\"City\"])\n",
    "df_encoded[\"AgeGroupCode\"] = df_encoded[\"AgeGroup\"].astype(\"category\").cat.codes\n",
    "print(df_encoded)"
   ]
  },
  {
   "cell_type": "code",
   "execution_count": 66,
   "id": "ab77eabe",
   "metadata": {},
   "outputs": [
    {
     "name": "stdout",
     "output_type": "stream",
     "text": [
      "                   Age    Salary  Experience   SalaryK  Score  AgeGroupCode\n",
      "Age           1.000000  0.893894    0.543949  0.999389    0.5      0.491822\n",
      "Salary        0.893894  1.000000    0.640182  1.000000    0.5      0.808603\n",
      "Experience    0.543949  0.640182    1.000000  0.546177   -1.0      0.636396\n",
      "SalaryK       0.999389  1.000000    0.546177  1.000000    0.5      0.880830\n",
      "Score         0.500000  0.500000   -1.000000  0.500000    1.0      0.000000\n",
      "AgeGroupCode  0.491822  0.808603    0.636396  0.880830    0.0      1.000000\n",
      "\n",
      "X shape: (7, 4) y shape: (7,)\n"
     ]
    }
   ],
   "source": [
    "X = df_encoded[[\"Age\",\"Salary\",\"Experience\",\"AgeGroupCode\"]].values\n",
    "y = df_encoded[\"Score\"].fillna(0).values\n",
    "numeric_df = df_encoded.select_dtypes(include=np.number)\n",
    "print(numeric_df.corr())\n",
    "print(\"\\nX shape:\", X.shape, \"y shape:\", y.shape)"
   ]
  }
 ],
 "metadata": {
  "kernelspec": {
   "display_name": "Python 3",
   "language": "python",
   "name": "python3"
  },
  "language_info": {
   "codemirror_mode": {
    "name": "ipython",
    "version": 3
   },
   "file_extension": ".py",
   "mimetype": "text/x-python",
   "name": "python",
   "nbconvert_exporter": "python",
   "pygments_lexer": "ipython3",
   "version": "3.12.4"
  }
 },
 "nbformat": 4,
 "nbformat_minor": 5
}
